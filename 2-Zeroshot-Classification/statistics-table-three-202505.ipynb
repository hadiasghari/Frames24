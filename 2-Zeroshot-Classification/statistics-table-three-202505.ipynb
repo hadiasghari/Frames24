{
 "cells": [
  {
   "cell_type": "code",
   "execution_count": null,
   "id": "2f53f1cf",
   "metadata": {},
   "outputs": [],
   "source": [
    "#TABLE 3\n",
    "\n",
    "import pandas as pd \n",
    "\n",
    "file_path = \"../1-Generation-and-Dataset/data-stories-with-labels-202505.csv\"\n",
    "df = pd.read_csv(file_path)"
   ]
  },
  {
   "cell_type": "code",
   "execution_count": 11,
   "id": "175a4bb5",
   "metadata": {},
   "outputs": [
    {
     "name": "stdout",
     "output_type": "stream",
     "text": [
      "Number of rows with cpAnnotationScore == 1: 156\n"
     ]
    }
   ],
   "source": [
    "#modify data to only include correct annotated text\n",
    "df = df[df['cpAnnotationScore'] == '1']\n",
    "print(\"Number of rows with cpAnnotationScore == 1:\", len(df))"
   ]
  },
  {
   "cell_type": "code",
   "execution_count": null,
   "id": "fdd91551",
   "metadata": {},
   "outputs": [],
   "source": [
    "# function to calculate sums and percentage for frame label combinations\n",
    "def calculate_sums(frame_label, condition):\n",
    "        def calculate_metric(column):\n",
    "                filtered = df[(df[column] >= 80) & condition][column].value_counts().sum()\n",
    "                total = df[condition][column].value_counts().sum()\n",
    "                percentage = (filtered / total * 100) if total > 0 else 0\n",
    "                return filtered, round(percentage, 1)\n",
    "\n",
    "        return {\n",
    "                'Frame Label': frame_label,\n",
    "                'L3_SF': calculate_metric('L3_SF')[0],\n",
    "                'L3_SF%': calculate_metric('L3_SF')[1],\n",
    "                'L3_NP': calculate_metric('L3_NP')[0],\n",
    "                'L3_NP%': calculate_metric('L3_NP')[1],\n",
    "                'L3s_SF': calculate_metric('L3s_SF')[0],\n",
    "                'L3s_SF%': calculate_metric('L3s_SF')[1],\n",
    "                'L3s_NP': calculate_metric('L3s_NP')[0],\n",
    "                'L3s_NP%': calculate_metric('L3s_NP')[1],\n",
    "                'L2_SF': calculate_metric('L2_SF')[0],\n",
    "                'L2_SF%': calculate_metric('L2_SF')[1],\n",
    "                'L2_NP': calculate_metric('L2_NP')[0],\n",
    "                'L2_NP%': calculate_metric('L2_NP')[1]\n",
    "        }\n"
   ]
  },
  {
   "cell_type": "code",
   "execution_count": 15,
   "id": "cfbe634e",
   "metadata": {},
   "outputs": [
    {
     "name": "stdout",
     "output_type": "stream",
     "text": [
      "LAMA-3-70B\n",
      "        Frame Label  SF     SF%  NP     NP%\n",
      "0     Strict Father  16  100.0%   5   31.2%\n",
      "1  Nurturing Parent   3   15.0%  20  100.0%\n",
      "2    Others/Control  17   14.2%  18   15.0%\n",
      "\n",
      "LLAMA-3-8B\n",
      "        Frame Label  SF    SF%  NP    NP%\n",
      "0     Strict Father  14  87.5%  13  81.2%\n",
      "1  Nurturing Parent   2  10.0%  17  85.0%\n",
      "2    Others/Control  10   8.3%   3   2.5%\n",
      "\n",
      "LLAMA-2-7B\n",
      "        Frame Label  SF    SF%  NP    NP%\n",
      "0     Strict Father  11  68.8%  13  81.2%\n",
      "1  Nurturing Parent  13  65.0%  18  90.0%\n",
      "2    Others/Control  38  31.7%  74  61.7%\n"
     ]
    },
    {
     "name": "stderr",
     "output_type": "stream",
     "text": [
      "/var/folders/51/p060j5014w527zh0ng6_zp440000gn/T/ipykernel_41247/1018746604.py:4: FutureWarning: The behavior of DataFrame concatenation with empty or all-NA entries is deprecated. In a future version, this will no longer exclude empty or all-NA columns when determining the result dtypes. To retain the old behavior, exclude the relevant entries before the concat operation.\n",
      "  df2 = pd.concat([\n"
     ]
    }
   ],
   "source": [
    "\n",
    "df2 = pd.DataFrame(columns=['Frame Label', 'L3_SF','L3_SF%', 'L3_NP','L3_NP%', 'L3s_SF','L3s_SF%', 'L3s_NP','L3s_NP%', 'L2_SF','L2_SF%', 'L2_NP','L2_NP%'])\n",
    "\n",
    "# Add rows for each frame label sum and percentage like (sum, percentage)\n",
    "df2 = pd.concat([\n",
    "    df2,\n",
    "    pd.DataFrame([calculate_sums('Strict Father', df['Frame'] == 'strict-father')]),\n",
    "    pd.DataFrame([calculate_sums('Nurturing Parent', df['Frame'] == 'nurturing-parent')]),\n",
    "    pd.DataFrame([calculate_sums('Others/Control', (df['Frame'] != 'nurturing-parent') & (df['Frame'] != 'strict-father'))])\n",
    "], ignore_index=True)\n",
    "\n",
    "# separate dataframes for L3, L3s, and L2 \n",
    "df_L3 = df2[['Frame Label', 'L3_SF', 'L3_SF%', 'L3_NP', 'L3_NP%']].copy()\n",
    "df_L3s = df2[['Frame Label', 'L3s_SF', 'L3s_SF%', 'L3s_NP', 'L3s_NP%']].copy()\n",
    "df_L2 = df2[['Frame Label', 'L2_SF', 'L2_SF%', 'L2_NP', 'L2_NP%']].copy()\n",
    "\n",
    "df_L3.columns = ['Frame Label', 'SF', 'SF%', 'NP', 'NP%']\n",
    "df_L3s.columns = ['Frame Label', 'SF', 'SF%', 'NP', 'NP%']\n",
    "df_L2.columns = ['Frame Label', 'SF', 'SF%', 'NP', 'NP%']\n",
    "\n",
    "# add '%' behind percentage values\n",
    "for df_temp in [df_L3, df_L3s, df_L2]:\n",
    "    percentage_columns = ['SF%', 'NP%']\n",
    "    for col in percentage_columns:\n",
    "        df_temp[col] = df_temp[col].astype(str) + '%'\n",
    "\n",
    "# print dataframes\n",
    "print(\"LAMA-3-70B\")\n",
    "print(df_L3)\n",
    "print(\"\\nLLAMA-3-8B\")\n",
    "print(df_L3s)\n",
    "print(\"\\nLLAMA-2-7B\")\n",
    "print(df_L2)"
   ]
  }
 ],
 "metadata": {
  "kernelspec": {
   "display_name": ".venv",
   "language": "python",
   "name": "python3"
  },
  "language_info": {
   "codemirror_mode": {
    "name": "ipython",
    "version": 3
   },
   "file_extension": ".py",
   "mimetype": "text/x-python",
   "name": "python",
   "nbconvert_exporter": "python",
   "pygments_lexer": "ipython3",
   "version": "3.13.0"
  }
 },
 "nbformat": 4,
 "nbformat_minor": 5
}
