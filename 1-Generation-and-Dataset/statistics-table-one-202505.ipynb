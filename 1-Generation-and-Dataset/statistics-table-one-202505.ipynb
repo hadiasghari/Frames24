{
 "cells": [
  {
   "cell_type": "code",
   "execution_count": null,
   "id": "44ac7a82",
   "metadata": {},
   "outputs": [
    {
     "name": "stdout",
     "output_type": "stream",
     "text": [
      "                                         Frame  Correct  Percentage Correct\n",
      "0                                strict-father       19           70.370370\n",
      "1                             nurturing-parent       24           88.888889\n",
      "2                                  us-vs.-them       22           81.481481\n",
      "3                  we-are-all-in-this-together       24           88.888889\n",
      "4                  nature-cannot-be-controlled       18           66.666667\n",
      "5                          mastery-over-nature       17           62.962963\n",
      "6                   illusions-to-enlightenment       21           77.777778\n",
      "7                     society-of-the-spectacle       19           70.370370\n",
      "8             information-spreads-like-a-virus       15           55.555556\n",
      "9  information-follows-individual-dispositions       10           37.037037\n"
     ]
    }
   ],
   "source": [
    "#TABLE 1\n",
    "\n",
    "#!pip install pandas\n",
    "import pandas as pd\n",
    "\n",
    "file_path = \"../1-Generation-and-Dataset/data-generated-stories-frames-202505.csv\"\n",
    "df = pd.read_csv(file_path)\n",
    "\n",
    "frames = df['Frame'].unique()\n",
    "results = []\n",
    "\n",
    "for frame in frames:\n",
    "    frame_data = df[df['Frame'] == frame]\n",
    "    correct_texts = frame_data[frame_data['AnnotationScore'].isin([1, 2])].shape[0]\n",
    "    total_texts = 27  \n",
    "    percentage_correct = (correct_texts / total_texts) * 100\n",
    "    results.append({'Frame': frame, 'Correct': correct_texts, 'Percentage Correct': percentage_correct})\n",
    "\n",
    "results_df = pd.DataFrame(results)\n",
    "\n",
    "print(results_df)"
   ]
  }
 ],
 "metadata": {
  "kernelspec": {
   "display_name": ".venv",
   "language": "python",
   "name": "python3"
  },
  "language_info": {
   "codemirror_mode": {
    "name": "ipython",
    "version": 3
   },
   "file_extension": ".py",
   "mimetype": "text/x-python",
   "name": "python",
   "nbconvert_exporter": "python",
   "pygments_lexer": "ipython3",
   "version": "3.13.0"
  }
 },
 "nbformat": 4,
 "nbformat_minor": 5
}
