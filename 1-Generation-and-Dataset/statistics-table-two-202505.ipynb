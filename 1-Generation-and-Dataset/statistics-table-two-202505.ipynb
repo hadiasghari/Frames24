{
 "cells": [
  {
   "cell_type": "code",
   "execution_count": null,
   "id": "2f53f1cf",
   "metadata": {},
   "outputs": [
    {
     "name": "stdout",
     "output_type": "stream",
     "text": [
      "      Model Source  Correct  out of  Faithful out of\n",
      "0    llama2   orig       18       20        -      -\n",
      "1    llama2  scifi       11       20        8     11\n",
      "2    llama2  bible       14       20        5     14\n",
      "3   mistral   orig       19       20        -      -\n",
      "4   mistral  scifi       13       20        6     13\n",
      "5   mistral  bible       15       20       13     15\n",
      "6    vicuna   orig       16       20        -      -\n",
      "7    vicuna  scifi        8       20        5      8\n",
      "8    vicuna  bible        9       20        8      9\n",
      "9        yi   orig       16       20        -      -\n",
      "10       yi  scifi       16       20       10     16\n",
      "11       yi  bible        7       20        6      7\n",
      "12     gpt4   orig       10       10        -      -\n",
      "13     gpt4  scifi        8       10        5      8\n",
      "14     gpt4  bible        9       10        9      9\n"
     ]
    }
   ],
   "source": [
    "#TABLE 2\n",
    "\n",
    "import pandas as pd \n",
    "\n",
    "file_path = \"../1-Generation-and-Dataset/data-generated-stories-frames-202505.csv\"\n",
    "df = pd.read_csv(file_path)\n",
    "\n",
    "i_model = df['Model'].unique()\n",
    "i_source = df['Source'].unique()\n",
    "results = []\n",
    "\n",
    "for model in i_model:\n",
    "    for source in i_source:\n",
    "        modsrc_data = df[(df['Model'] == model) & (df['Source'] == source)]\n",
    "        count_texts = modsrc_data.shape[0]\n",
    "        correct_texts = modsrc_data[modsrc_data['AnnotationScore'].isin([1, 2])].shape[0]\n",
    "        \n",
    "        faithful_texts = modsrc_data[modsrc_data['AnnotationScore'].isin([1, 2]) & (modsrc_data['Hallucination'] == '0')].shape[0]\n",
    "\n",
    "        results.append({'Model': model, 'Source': source, 'Correct': correct_texts, 'out of ': count_texts, 'Faithful': faithful_texts, 'out of': correct_texts})\n",
    "        if (modsrc_data['Source'] == 'orig').any():\n",
    "            results[-1]['Faithful'] = '-'\n",
    "        if (modsrc_data['Source'] == 'orig').any():\n",
    "            results[-1]['out of'] = '-'\n",
    "\n",
    "results_df = pd.DataFrame(results)  \n",
    "\n",
    "print(results_df)   "
   ]
  }
 ],
 "metadata": {
  "kernelspec": {
   "display_name": ".venv",
   "language": "python",
   "name": "python3"
  },
  "language_info": {
   "codemirror_mode": {
    "name": "ipython",
    "version": 3
   },
   "file_extension": ".py",
   "mimetype": "text/x-python",
   "name": "python",
   "nbconvert_exporter": "python",
   "pygments_lexer": "ipython3",
   "version": "3.13.0"
  }
 },
 "nbformat": 4,
 "nbformat_minor": 5
}
